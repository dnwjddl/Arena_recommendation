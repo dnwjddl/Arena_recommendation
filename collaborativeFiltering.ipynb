{
 "cells": [
  {
   "cell_type": "code",
   "execution_count": 1,
   "metadata": {},
   "outputs": [],
   "source": [
    "import json\n",
    "import os\n",
    "import glob\n",
    "\n",
    "import numpy as np \n",
    "import pandas as pd\n",
    "from pandas import Series,DataFrame"
   ]
  },
  {
   "cell_type": "code",
   "execution_count": 2,
   "metadata": {},
   "outputs": [],
   "source": [
    "train = pd.read_json('arena_data/orig/train.json', typ = 'frame')"
   ]
  },
  {
   "cell_type": "code",
   "execution_count": 3,
   "metadata": {},
   "outputs": [
    {
     "data": {
      "text/html": [
       "<div>\n",
       "<style scoped>\n",
       "    .dataframe tbody tr th:only-of-type {\n",
       "        vertical-align: middle;\n",
       "    }\n",
       "\n",
       "    .dataframe tbody tr th {\n",
       "        vertical-align: top;\n",
       "    }\n",
       "\n",
       "    .dataframe thead th {\n",
       "        text-align: right;\n",
       "    }\n",
       "</style>\n",
       "<table border=\"1\" class=\"dataframe\">\n",
       "  <thead>\n",
       "    <tr style=\"text-align: right;\">\n",
       "      <th></th>\n",
       "      <th>tags</th>\n",
       "      <th>id</th>\n",
       "      <th>plylst_title</th>\n",
       "      <th>songs</th>\n",
       "      <th>like_cnt</th>\n",
       "      <th>updt_date</th>\n",
       "    </tr>\n",
       "  </thead>\n",
       "  <tbody>\n",
       "    <tr>\n",
       "      <th>0</th>\n",
       "      <td>[힐링, 휴식, 밤, 새벽]</td>\n",
       "      <td>147668</td>\n",
       "      <td>To. 힘들고 지친 분들에게</td>\n",
       "      <td>[663185, 649626, 6855, 188486, 348451, 169945,...</td>\n",
       "      <td>12</td>\n",
       "      <td>2016-06-23 10:06:27.000</td>\n",
       "    </tr>\n",
       "    <tr>\n",
       "      <th>1</th>\n",
       "      <td>[팝]</td>\n",
       "      <td>50422</td>\n",
       "      <td>130807-7</td>\n",
       "      <td>[627035, 256438, 603324, 200889, 441319, 21689...</td>\n",
       "      <td>0</td>\n",
       "      <td>2013-08-15 13:17:11.000</td>\n",
       "    </tr>\n",
       "    <tr>\n",
       "      <th>2</th>\n",
       "      <td>[뉴에이지]</td>\n",
       "      <td>116432</td>\n",
       "      <td>숙면을 위한 슬픈 마음을 달래 줄 피아노</td>\n",
       "      <td>[129204, 369497, 649743, 344619, 110281, 63266...</td>\n",
       "      <td>23</td>\n",
       "      <td>2015-09-03 16:51:50.000</td>\n",
       "    </tr>\n",
       "    <tr>\n",
       "      <th>3</th>\n",
       "      <td>[하드락, 록스피릿, 댄스]</td>\n",
       "      <td>55076</td>\n",
       "      <td>당신을 하얗게 불태울 곡들</td>\n",
       "      <td>[677591, 420396, 104934, 119279, 251988, 58850...</td>\n",
       "      <td>1</td>\n",
       "      <td>2017-01-09 15:41:25.000</td>\n",
       "    </tr>\n",
       "    <tr>\n",
       "      <th>4</th>\n",
       "      <td>[힐링, 휴식, 기분전환]</td>\n",
       "      <td>125064</td>\n",
       "      <td>[스피커 필수 / HIPHOP] 듣고 있음 꿀렁꿀렁이고 싶은 힙합음악!</td>\n",
       "      <td>[704455, 694036, 508043, 154933, 57614, 645195...</td>\n",
       "      <td>715</td>\n",
       "      <td>2016-02-22 12:32:50.000</td>\n",
       "    </tr>\n",
       "    <tr>\n",
       "      <th>...</th>\n",
       "      <td>...</td>\n",
       "      <td>...</td>\n",
       "      <td>...</td>\n",
       "      <td>...</td>\n",
       "      <td>...</td>\n",
       "      <td>...</td>\n",
       "    </tr>\n",
       "    <tr>\n",
       "      <th>92051</th>\n",
       "      <td>[90년생, 회상, 추억, 좋은노래, 80년생, 옛날노래]</td>\n",
       "      <td>149690</td>\n",
       "      <td>옛날노래 * 좋은노래 8090년생 노래 모음</td>\n",
       "      <td>[292099, 513963, 174225, 287212, 140444, 62469...</td>\n",
       "      <td>155</td>\n",
       "      <td>2020-01-15 15:15:45.000</td>\n",
       "    </tr>\n",
       "    <tr>\n",
       "      <th>92052</th>\n",
       "      <td>[팝]</td>\n",
       "      <td>35004</td>\n",
       "      <td>LOVE 1</td>\n",
       "      <td>[62596, 359718, 596004, 668790, 291212, 148977...</td>\n",
       "      <td>8</td>\n",
       "      <td>2010-03-23 00:03:00.000</td>\n",
       "    </tr>\n",
       "    <tr>\n",
       "      <th>92053</th>\n",
       "      <td>[여행, 발라드, 기분전환, 사랑]</td>\n",
       "      <td>59765</td>\n",
       "      <td>추억의 2004년 발라드 베스트</td>\n",
       "      <td>[214372, 145150, 407082, 160552, 102445, 50845...</td>\n",
       "      <td>3</td>\n",
       "      <td>2019-05-15 13:26:07.000</td>\n",
       "    </tr>\n",
       "    <tr>\n",
       "      <th>92054</th>\n",
       "      <td>[소울, 알앤비]</td>\n",
       "      <td>9867</td>\n",
       "      <td>All Music Guide 선정 90s R&amp;B: 1997</td>\n",
       "      <td>[561958, 397574, 250915, 110345, 426772, 10698...</td>\n",
       "      <td>51</td>\n",
       "      <td>2013-12-24 14:40:01.000</td>\n",
       "    </tr>\n",
       "    <tr>\n",
       "      <th>92055</th>\n",
       "      <td>[힙합, 랩]</td>\n",
       "      <td>15046</td>\n",
       "      <td>★ Real HipHop ★</td>\n",
       "      <td>[364007, 472608, 198805, 580961, 226073, 24992...</td>\n",
       "      <td>116</td>\n",
       "      <td>2009-11-04 04:03:01.000</td>\n",
       "    </tr>\n",
       "  </tbody>\n",
       "</table>\n",
       "<p>92056 rows × 6 columns</p>\n",
       "</div>"
      ],
      "text/plain": [
       "                                   tags      id  \\\n",
       "0                       [힐링, 휴식, 밤, 새벽]  147668   \n",
       "1                                   [팝]   50422   \n",
       "2                                [뉴에이지]  116432   \n",
       "3                       [하드락, 록스피릿, 댄스]   55076   \n",
       "4                        [힐링, 휴식, 기분전환]  125064   \n",
       "...                                 ...     ...   \n",
       "92051  [90년생, 회상, 추억, 좋은노래, 80년생, 옛날노래]  149690   \n",
       "92052                               [팝]   35004   \n",
       "92053               [여행, 발라드, 기분전환, 사랑]   59765   \n",
       "92054                         [소울, 알앤비]    9867   \n",
       "92055                           [힙합, 랩]   15046   \n",
       "\n",
       "                                  plylst_title  \\\n",
       "0                              To. 힘들고 지친 분들에게   \n",
       "1                                     130807-7   \n",
       "2                       숙면을 위한 슬픈 마음을 달래 줄 피아노   \n",
       "3                               당신을 하얗게 불태울 곡들   \n",
       "4      [스피커 필수 / HIPHOP] 듣고 있음 꿀렁꿀렁이고 싶은 힙합음악!   \n",
       "...                                        ...   \n",
       "92051                 옛날노래 * 좋은노래 8090년생 노래 모음   \n",
       "92052                                   LOVE 1   \n",
       "92053                        추억의 2004년 발라드 베스트   \n",
       "92054         All Music Guide 선정 90s R&B: 1997   \n",
       "92055                          ★ Real HipHop ★   \n",
       "\n",
       "                                                   songs  like_cnt  \\\n",
       "0      [663185, 649626, 6855, 188486, 348451, 169945,...        12   \n",
       "1      [627035, 256438, 603324, 200889, 441319, 21689...         0   \n",
       "2      [129204, 369497, 649743, 344619, 110281, 63266...        23   \n",
       "3      [677591, 420396, 104934, 119279, 251988, 58850...         1   \n",
       "4      [704455, 694036, 508043, 154933, 57614, 645195...       715   \n",
       "...                                                  ...       ...   \n",
       "92051  [292099, 513963, 174225, 287212, 140444, 62469...       155   \n",
       "92052  [62596, 359718, 596004, 668790, 291212, 148977...         8   \n",
       "92053  [214372, 145150, 407082, 160552, 102445, 50845...         3   \n",
       "92054  [561958, 397574, 250915, 110345, 426772, 10698...        51   \n",
       "92055  [364007, 472608, 198805, 580961, 226073, 24992...       116   \n",
       "\n",
       "                     updt_date  \n",
       "0      2016-06-23 10:06:27.000  \n",
       "1      2013-08-15 13:17:11.000  \n",
       "2      2015-09-03 16:51:50.000  \n",
       "3      2017-01-09 15:41:25.000  \n",
       "4      2016-02-22 12:32:50.000  \n",
       "...                        ...  \n",
       "92051  2020-01-15 15:15:45.000  \n",
       "92052  2010-03-23 00:03:00.000  \n",
       "92053  2019-05-15 13:26:07.000  \n",
       "92054  2013-12-24 14:40:01.000  \n",
       "92055  2009-11-04 04:03:01.000  \n",
       "\n",
       "[92056 rows x 6 columns]"
      ]
     },
     "execution_count": 3,
     "metadata": {},
     "output_type": "execute_result"
    }
   ],
   "source": [
    "train"
   ]
  },
  {
   "cell_type": "code",
   "execution_count": 4,
   "metadata": {},
   "outputs": [],
   "source": [
    "# 플레이리스트 아이디(id)와 수록곡(songs) 추출\n",
    "plylst_song_map = train[['id', 'songs']]"
   ]
  },
  {
   "cell_type": "code",
   "execution_count": 5,
   "metadata": {},
   "outputs": [
    {
     "data": {
      "text/html": [
       "<div>\n",
       "<style scoped>\n",
       "    .dataframe tbody tr th:only-of-type {\n",
       "        vertical-align: middle;\n",
       "    }\n",
       "\n",
       "    .dataframe tbody tr th {\n",
       "        vertical-align: top;\n",
       "    }\n",
       "\n",
       "    .dataframe thead th {\n",
       "        text-align: right;\n",
       "    }\n",
       "</style>\n",
       "<table border=\"1\" class=\"dataframe\">\n",
       "  <thead>\n",
       "    <tr style=\"text-align: right;\">\n",
       "      <th></th>\n",
       "      <th>id</th>\n",
       "      <th>songs</th>\n",
       "    </tr>\n",
       "  </thead>\n",
       "  <tbody>\n",
       "    <tr>\n",
       "      <th>0</th>\n",
       "      <td>147668</td>\n",
       "      <td>[663185, 649626, 6855, 188486, 348451, 169945,...</td>\n",
       "    </tr>\n",
       "    <tr>\n",
       "      <th>1</th>\n",
       "      <td>50422</td>\n",
       "      <td>[627035, 256438, 603324, 200889, 441319, 21689...</td>\n",
       "    </tr>\n",
       "    <tr>\n",
       "      <th>2</th>\n",
       "      <td>116432</td>\n",
       "      <td>[129204, 369497, 649743, 344619, 110281, 63266...</td>\n",
       "    </tr>\n",
       "    <tr>\n",
       "      <th>3</th>\n",
       "      <td>55076</td>\n",
       "      <td>[677591, 420396, 104934, 119279, 251988, 58850...</td>\n",
       "    </tr>\n",
       "    <tr>\n",
       "      <th>4</th>\n",
       "      <td>125064</td>\n",
       "      <td>[704455, 694036, 508043, 154933, 57614, 645195...</td>\n",
       "    </tr>\n",
       "    <tr>\n",
       "      <th>...</th>\n",
       "      <td>...</td>\n",
       "      <td>...</td>\n",
       "    </tr>\n",
       "    <tr>\n",
       "      <th>92051</th>\n",
       "      <td>149690</td>\n",
       "      <td>[292099, 513963, 174225, 287212, 140444, 62469...</td>\n",
       "    </tr>\n",
       "    <tr>\n",
       "      <th>92052</th>\n",
       "      <td>35004</td>\n",
       "      <td>[62596, 359718, 596004, 668790, 291212, 148977...</td>\n",
       "    </tr>\n",
       "    <tr>\n",
       "      <th>92053</th>\n",
       "      <td>59765</td>\n",
       "      <td>[214372, 145150, 407082, 160552, 102445, 50845...</td>\n",
       "    </tr>\n",
       "    <tr>\n",
       "      <th>92054</th>\n",
       "      <td>9867</td>\n",
       "      <td>[561958, 397574, 250915, 110345, 426772, 10698...</td>\n",
       "    </tr>\n",
       "    <tr>\n",
       "      <th>92055</th>\n",
       "      <td>15046</td>\n",
       "      <td>[364007, 472608, 198805, 580961, 226073, 24992...</td>\n",
       "    </tr>\n",
       "  </tbody>\n",
       "</table>\n",
       "<p>92056 rows × 2 columns</p>\n",
       "</div>"
      ],
      "text/plain": [
       "           id                                              songs\n",
       "0      147668  [663185, 649626, 6855, 188486, 348451, 169945,...\n",
       "1       50422  [627035, 256438, 603324, 200889, 441319, 21689...\n",
       "2      116432  [129204, 369497, 649743, 344619, 110281, 63266...\n",
       "3       55076  [677591, 420396, 104934, 119279, 251988, 58850...\n",
       "4      125064  [704455, 694036, 508043, 154933, 57614, 645195...\n",
       "...       ...                                                ...\n",
       "92051  149690  [292099, 513963, 174225, 287212, 140444, 62469...\n",
       "92052   35004  [62596, 359718, 596004, 668790, 291212, 148977...\n",
       "92053   59765  [214372, 145150, 407082, 160552, 102445, 50845...\n",
       "92054    9867  [561958, 397574, 250915, 110345, 426772, 10698...\n",
       "92055   15046  [364007, 472608, 198805, 580961, 226073, 24992...\n",
       "\n",
       "[92056 rows x 2 columns]"
      ]
     },
     "execution_count": 5,
     "metadata": {},
     "output_type": "execute_result"
    }
   ],
   "source": [
    "plylst_song_map"
   ]
  },
  {
   "cell_type": "code",
   "execution_count": 6,
   "metadata": {},
   "outputs": [],
   "source": [
    "# unnest songs\n",
    "plylst_song_map_unnest = np.dstack(\n",
    "    (\n",
    "        np.repeat(plylst_song_map.id.values, list(map(len, plylst_song_map.songs))), \n",
    "        np.concatenate(plylst_song_map.songs.values)\n",
    "    )\n",
    ")\n",
    "\n",
    "# unnested 데이터프레임 생성 : plylst_song_map\n",
    "plylst_song_map = pd.DataFrame(data = plylst_song_map_unnest[0], columns = plylst_song_map.columns)\n",
    "plylst_song_map['id'] = plylst_song_map['id'].astype(str)\n",
    "plylst_song_map['songs'] = plylst_song_map['songs'].astype(int)\n",
    "\n",
    "# unnest 객체 제거\n",
    "del plylst_song_map_unnest"
   ]
  },
  {
   "cell_type": "code",
   "execution_count": 7,
   "metadata": {},
   "outputs": [
    {
     "data": {
      "text/html": [
       "<div>\n",
       "<style scoped>\n",
       "    .dataframe tbody tr th:only-of-type {\n",
       "        vertical-align: middle;\n",
       "    }\n",
       "\n",
       "    .dataframe tbody tr th {\n",
       "        vertical-align: top;\n",
       "    }\n",
       "\n",
       "    .dataframe thead th {\n",
       "        text-align: right;\n",
       "    }\n",
       "</style>\n",
       "<table border=\"1\" class=\"dataframe\">\n",
       "  <thead>\n",
       "    <tr style=\"text-align: right;\">\n",
       "      <th></th>\n",
       "      <th>id</th>\n",
       "      <th>songs</th>\n",
       "    </tr>\n",
       "  </thead>\n",
       "  <tbody>\n",
       "    <tr>\n",
       "      <th>0</th>\n",
       "      <td>147668</td>\n",
       "      <td>663185</td>\n",
       "    </tr>\n",
       "    <tr>\n",
       "      <th>1</th>\n",
       "      <td>147668</td>\n",
       "      <td>649626</td>\n",
       "    </tr>\n",
       "    <tr>\n",
       "      <th>2</th>\n",
       "      <td>147668</td>\n",
       "      <td>6855</td>\n",
       "    </tr>\n",
       "    <tr>\n",
       "      <th>3</th>\n",
       "      <td>147668</td>\n",
       "      <td>188486</td>\n",
       "    </tr>\n",
       "    <tr>\n",
       "      <th>4</th>\n",
       "      <td>147668</td>\n",
       "      <td>348451</td>\n",
       "    </tr>\n",
       "  </tbody>\n",
       "</table>\n",
       "</div>"
      ],
      "text/plain": [
       "       id   songs\n",
       "0  147668  663185\n",
       "1  147668  649626\n",
       "2  147668    6855\n",
       "3  147668  188486\n",
       "4  147668  348451"
      ]
     },
     "execution_count": 7,
     "metadata": {},
     "output_type": "execute_result"
    }
   ],
   "source": [
    "plylst_song_map.head()"
   ]
  },
  {
   "cell_type": "code",
   "execution_count": 8,
   "metadata": {},
   "outputs": [
    {
     "data": {
      "text/plain": [
       "pandas.core.frame.DataFrame"
      ]
     },
     "execution_count": 8,
     "metadata": {},
     "output_type": "execute_result"
    }
   ],
   "source": [
    "type(plylst_song_map)"
   ]
  },
  {
   "cell_type": "code",
   "execution_count": 9,
   "metadata": {},
   "outputs": [
    {
     "name": "stdout",
     "output_type": "stream",
     "text": [
      "          songs\n",
      "0        663185\n",
      "1        649626\n",
      "2          6855\n",
      "3        188486\n",
      "4        348451\n",
      "...         ...\n",
      "4239973  529143\n",
      "4239974  479142\n",
      "4239975  239059\n",
      "4239976  229121\n",
      "4239977  109325\n",
      "\n",
      "[4239978 rows x 1 columns]\n"
     ]
    }
   ],
   "source": [
    "#그냥 song들 만 빼낸거_사실상 무의미\n",
    "song_matrix = plylst_song_map.drop(['id'], axis='columns')\n",
    "print(song_matrix)"
   ]
  },
  {
   "cell_type": "code",
   "execution_count": 10,
   "metadata": {},
   "outputs": [
    {
     "name": "stdout",
     "output_type": "stream",
     "text": [
      "144663    1724\n",
      "116573    1671\n",
      "357367    1577\n",
      "366786    1530\n",
      "654757    1319\n",
      "          ... \n",
      "388033       1\n",
      "337270       1\n",
      "329074       1\n",
      "390508       1\n",
      "59360        1\n",
      "Name: songs, Length: 549729, dtype: int64\n",
      "109700    200\n",
      "129149    200\n",
      "92962     200\n",
      "78051     200\n",
      "65767     200\n",
      "         ... \n",
      "14527       1\n",
      "129499      1\n",
      "4829        1\n",
      "16671       1\n",
      "95559       1\n",
      "Name: id, Length: 92056, dtype: int64\n",
      "Int64Index([144663, 116573, 357367, 366786, 654757, 133143, 349492, 675115,\n",
      "            463173, 396828,\n",
      "            ...\n",
      "            424883, 412597, 353662, 396221, 345466, 388033, 337270, 329074,\n",
      "            390508,  59360],\n",
      "           dtype='int64', length=549729)\n"
     ]
    }
   ],
   "source": [
    "#유일값 찾기_pandas\n",
    "song_num=song_matrix['songs'].value_counts()\n",
    "print(song_num)\n",
    "song_num=song_num.index\n",
    "id_num=plylst_song_map['id'].value_counts()\n",
    "print(id_num)\n",
    "id_num=id_num.index\n",
    "#플레이리스트의 id 값: 92056, 플레이리스트 내 song들의 갯수: 549729\n",
    "print(song_num)"
   ]
  },
  {
   "cell_type": "code",
   "execution_count": 11,
   "metadata": {},
   "outputs": [],
   "source": [
    "del(song_matrix)"
   ]
  },
  {
   "cell_type": "code",
   "execution_count": 12,
   "metadata": {},
   "outputs": [],
   "source": [
    "def make_encoding_id_dict(col_unique):\n",
    "    encoded_dict = {}\n",
    "    for idx, unique in enumerate(col_unique):\n",
    "        encoded_dict[unique] = idx\n",
    "        \n",
    "    return encoded_dict"
   ]
  },
  {
   "cell_type": "code",
   "execution_count": 13,
   "metadata": {},
   "outputs": [],
   "source": [
    "#id 와 song을 인코딩해서 딕셔너리 형식으로 바꾸기\n",
    "encoded_id=make_encoding_id_dict(id_num)\n",
    "encoded_song=make_encoding_id_dict(song_num)\n",
    "\n",
    "n_songs = len(song_num)\n",
    "n_ids = len(id_num)\n",
    "\n",
    "del(song_num)\n",
    "del(id_num)"
   ]
  },
  {
   "cell_type": "code",
   "execution_count": 14,
   "metadata": {
    "scrolled": true
   },
   "outputs": [],
   "source": [
    "#user-item matrix 만들기(92056, 549729)\n",
    "user_item_matrix=np.zeros((n_ids,n_songs),dtype=np.int8)"
   ]
  },
  {
   "cell_type": "code",
   "execution_count": 15,
   "metadata": {
    "scrolled": true
   },
   "outputs": [
    {
     "name": "stdout",
     "output_type": "stream",
     "text": [
      "[[0 0 0 ... 0 0 0]\n",
      " [0 0 0 ... 0 0 0]\n",
      " [0 0 0 ... 0 0 0]\n",
      " ...\n",
      " [0 0 0 ... 0 0 0]\n",
      " [0 0 0 ... 0 0 0]\n",
      " [0 0 0 ... 0 0 0]]\n"
     ]
    }
   ],
   "source": [
    "for row in plylst_song_map.itertuples():\n",
    "    user_item_matrix[encoded_id[row[1]], encoded_song[row[2]]] = 1\n",
    "    \n",
    "print(user_item_matrix)"
   ]
  },
  {
   "cell_type": "code",
   "execution_count": 16,
   "metadata": {},
   "outputs": [],
   "source": [
    "from sklearn.metrics import jaccard_similarity_score\n"
   ]
  },
  {
   "cell_type": "code",
   "execution_count": null,
   "metadata": {
    "scrolled": true
   },
   "outputs": [],
   "source": [
    "# # from scipy.sparse import dia_matrix\n",
    "# # import numpy as np\n",
    "\n",
    "# #user_item_matrix=dia_matrix((549730,92057), dtype=np.int8).toarray()\n",
    "# # print(d.shape)\n",
    "\n",
    "# #user-item matrix 만들기\n",
    "# user_item_matrix=np.zeros((549729,92056),dtype=np.int8)\n",
    "\n",
    "# #id 별 딕셔너리 만들기\n",
    "# for key,unique in range(n_songs):\n",
    "#     print(i, \":\", key, n_songs[key])\n",
    "# print()\n",
    "\n",
    "# #곡 별 딕셔너리 만들기\n",
    "\n",
    "# #matrix 셋팅\n",
    "# for i in range(n_ids+1):\n",
    "#     user_item_matrix[i+1][0]=song_name[i]\n",
    "    \n",
    "# for j in range(n_songs+1):\n",
    "#     user_item_matrix[0][j+1]=id_num[j]\n",
    "    \n",
    "# for i,j in plylst_song_map[['id','songs']]:\n",
    "#     for m in range(1,len(song_name)):\n",
    "#         for n in range(1,len(id_name)):\n",
    "#             user_item_matrix[m][n]=1\n",
    "    \n",
    "# #user-item matrix 파일에 저장후 데이터 없애기\n",
    "# mem_file_name = make_path('user_item_matrix.dat', directory='./data')\n",
    "# new_np   = make_memmap(mem_file_name,user_item_matrix)\n",
    "# del user_item_matrix, new_np\n",
    "# mem_file_name = make_path('user_item_matrix.dat', directory='./data')\n",
    "# new_np   = read_memmap(mem_file_name)\n",
    "\n",
    "# # ##파일 저장 후 꺼내서 쓰기\n",
    "# # # 파일기반 행렬을 만든다\n",
    "# # mem_file_name = make_path('user_item_matrix.dat', directory='./data')\n",
    "# # new_np        = make_memmap(mem_file_name,user_item_matrix)\n",
    "\n",
    "# # print(type(user_item_matrix), type(new_np))\n",
    "\n",
    "# # del user_item_matrix, new_np\n",
    "\n",
    "# # # 파일기반 행렬을 읽는다\n",
    "# # mem_file_name = make_path('user_item_matrix.dat', directory='./data')\n",
    "# # new_np        = read_memmap(mem_file_name)\n",
    "\n",
    "\n",
    "# # ##pandas 로 데이터 프레임 만들기\n",
    "# # user_item_matrix.info(memory_usage='deep')\n",
    "# # user_item_matrix = pd.DataFrame(np.zeros((549730,92057)))\n",
    "\n",
    "\n",
    "# # #0,1 기입하기\n",
    "# # m = 0\n",
    "# # n = 0\n",
    "\n",
    "# # for i,j in plylst_song_map[['id','songs']]:\n",
    "# #     if i==user_item_matrix[m][0]: # id 겹칠때\n",
    "# #         for line in range(n):\n",
    "# #             if j==user_item_matrix[m][line]: #노래가 겹칠때\n",
    "# #                 user_item_matrix[m][line]=1\n",
    "# #             else: #노래가 겹치지않을때\n",
    "# #                 n+=1\n",
    "# #                 user_item_matrix[0][n]=j #노래 목록 추가\n",
    "# #                 user_item_matrix[m][n]=1\n",
    "                \n",
    "# #     elif i==user_item_matrix[(m+1)][0]: #id 안겹칠때\n",
    "# #         m+=1\n",
    "# #         user_item_matrix[m][0]=i\n",
    "# #         for line in range(n):\n",
    "# #             if j==user_item_matrix[m][line]: #노래가 겹칠때\n",
    "# #                 user_item_matrix[m][line]=1\n",
    "# #             else: #노래가 겹치지않을때\n",
    "# #                 n+=1\n",
    "# #                 user_item_matrix[0][n]=j #노래 목록 추가\n",
    "# #                 user_item_matrix[m][n]=1   "
   ]
  },
  {
   "cell_type": "code",
   "execution_count": 8,
   "metadata": {},
   "outputs": [],
   "source": [
    "import numpy as np\n",
    "for i in range(10):\n",
    "    for j in range(10):\n",
    "        a=[]\n",
    "        a.append(j)\n",
    "    np.save('./matrix', a)"
   ]
  },
  {
   "cell_type": "code",
   "execution_count": 9,
   "metadata": {},
   "outputs": [],
   "source": [
    "new=np.load('./matrix.npy',allow_pickle=True)"
   ]
  },
  {
   "cell_type": "code",
   "execution_count": 10,
   "metadata": {},
   "outputs": [
    {
     "name": "stdout",
     "output_type": "stream",
     "text": [
      "[9]\n"
     ]
    }
   ],
   "source": [
    "print(new)"
   ]
  },
  {
   "cell_type": "code",
   "execution_count": null,
   "metadata": {},
   "outputs": [],
   "source": []
  }
 ],
 "metadata": {
  "kernelspec": {
   "display_name": "Python 3",
   "language": "python",
   "name": "python3"
  },
  "language_info": {
   "codemirror_mode": {
    "name": "ipython",
    "version": 3
   },
   "file_extension": ".py",
   "mimetype": "text/x-python",
   "name": "python",
   "nbconvert_exporter": "python",
   "pygments_lexer": "ipython3",
   "version": "3.7.6"
  }
 },
 "nbformat": 4,
 "nbformat_minor": 4
}
