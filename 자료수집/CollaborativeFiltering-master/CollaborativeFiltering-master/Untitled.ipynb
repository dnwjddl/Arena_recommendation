{
 "cells": [
  {
   "cell_type": "code",
   "execution_count": 18,
   "metadata": {},
   "outputs": [
    {
     "name": "stdout",
     "output_type": "stream",
     "text": [
      "{'Snakes on a Plane': 4.5, 'You, Me and Dupree': 1.0, 'Superman Returns': 4.0}\n"
     ]
    }
   ],
   "source": [
    "from recommendation_data import dataset\n",
    "from math import sqrt\n",
    "print(dataset['Toby'])"
   ]
  },
  {
   "cell_type": "code",
   "execution_count": 24,
   "metadata": {},
   "outputs": [
    {
     "ename": "TabError",
     "evalue": "inconsistent use of tabs and spaces in indentation (<ipython-input-24-50338021da72>, line 12)",
     "output_type": "error",
     "traceback": [
      "\u001b[1;36m  File \u001b[1;32m\"<ipython-input-24-50338021da72>\"\u001b[1;36m, line \u001b[1;32m12\u001b[0m\n\u001b[1;33m    if sim <=0:\u001b[0m\n\u001b[1;37m               ^\u001b[0m\n\u001b[1;31mTabError\u001b[0m\u001b[1;31m:\u001b[0m inconsistent use of tabs and spaces in indentation\n"
     ]
    }
   ],
   "source": [
    "def user_recommendations(person):\n",
    "    #get recommendations for a person by using a weighted average of every other user's rankings\n",
    "    totals = {}\n",
    "    simSums = {}\n",
    "    rankings_list = []\n",
    "    for other in dataset:\n",
    "        if other == person: #내가 찾던 사람일 때\n",
    "            continue\n",
    "        sim = pearson_correlation(person, other) #피어슨 상관관계\n",
    "        print(sim)   \n",
    "\t\t# ignore scores of zero or lower\n",
    "\t\tif sim <=0:\n",
    "\t\t\tcontinue\n",
    "\t\tfor item in dataset[other]:\n",
    "\n",
    "\t\t\t# only score movies i haven't seen yet\n",
    "\t\t\tif item not in dataset[person] or dataset[person][item] == 0:\n",
    "\n",
    "\t\t\t# Similrity * score\n",
    "\t\t\t\ttotals.setdefault(item,0)\n",
    "\t\t\t\ttotals[item] += dataset[other][item]* sim\n",
    "\t\t\t\t# sum of similarities\n",
    "\t\t\t\tsimSums.setdefault(item,0)\n",
    "\t\t\t\tsimSums[item]+= sim\n",
    "\n",
    "\t\t# Create the normalized list\n",
    "\n",
    "\trankings = [(total/simSums[item],item) for item,total in totals.items()]\n",
    "\trankings.sort()\n",
    "\trankings.reverse()\n",
    "\t# returns the recommended items\n",
    "\trecommendataions_list = [recommend_item for score,recommend_item in rankings]\n",
    "\treturn recommendataions_list"
   ]
  },
  {
   "cell_type": "code",
   "execution_count": null,
   "metadata": {},
   "outputs": [],
   "source": [
    "def pearson_correlation(person1,person2): #유사도 계산-피어슨 상관관계\n",
    "    #to get both rated item\n",
    "    both_rated = {}\n",
    "    for item in dataset[person1]:\n",
    "        for item in dataset[person2]:\n",
    "            both_rated[item] = 1\n",
    "    number_of_ratings = len(both_rated)\n",
    "    \n",
    "    #checking for number of ratings in common\n",
    "    if number_of_ratings == 0:\n",
    "        return 0\n",
    "    "
   ]
  },
  {
   "cell_type": "code",
   "execution_count": 14,
   "metadata": {},
   "outputs": [
    {
     "name": "stdout",
     "output_type": "stream",
     "text": [
      "['The Night Listener', 'Lady in the Water', 'Just My Luck']\n"
     ]
    }
   ],
   "source": [
    "a=user_recommendations('Toby')\n",
    "print(a)"
   ]
  },
  {
   "cell_type": "code",
   "execution_count": 22,
   "metadata": {},
   "outputs": [],
   "source": [
    "def pearson_correlation(person1,person2): #유사도계산-피어슨 상관관계\n",
    "\n",
    "\t# To get both rated items\n",
    "\tboth_rated = {}\n",
    "\tfor item in dataset[person1]:\n",
    "\t\tif item in dataset[person2]:\n",
    "\t\t\tboth_rated[item] = 1\n",
    "\n",
    "\tnumber_of_ratings = len(both_rated)\t\t\n",
    "\t\n",
    "\t# Checking for number of ratings in common\n",
    "\tif number_of_ratings == 0:\n",
    "\t\treturn 0\n",
    "\n",
    "\t# Add up all the preferences of each user\n",
    "\tperson1_preferences_sum = sum([dataset[person1][item] for item in both_rated])\n",
    "\tperson2_preferences_sum = sum([dataset[person2][item] for item in both_rated])\n",
    "\n",
    "\t# Sum up the squares of preferences of each user\n",
    "\tperson1_square_preferences_sum = sum([pow(dataset[person1][item],2) for item in both_rated])\n",
    "\tperson2_square_preferences_sum = sum([pow(dataset[person2][item],2) for item in both_rated])\n",
    "\n",
    "\t# Sum up the product value of both preferences for each item\n",
    "\tproduct_sum_of_both_users = sum([dataset[person1][item] * dataset[person2][item] for item in both_rated])\n",
    "\n",
    "\t# Calculate the pearson score\n",
    "\tnumerator_value = product_sum_of_both_users - (person1_preferences_sum*person2_preferences_sum/number_of_ratings)\n",
    "\tdenominator_value = sqrt((person1_square_preferences_sum - pow(person1_preferences_sum,2)/number_of_ratings) * (person2_square_preferences_sum -pow(person2_preferences_sum,2)/number_of_ratings))\n",
    "\tif denominator_value == 0:\n",
    "\t\treturn 0\n",
    "\telse:\n",
    "\t\tr = numerator_value/denominator_value\n",
    "\t\treturn r "
   ]
  },
  {
   "cell_type": "code",
   "execution_count": null,
   "metadata": {},
   "outputs": [],
   "source": []
  }
 ],
 "metadata": {
  "kernelspec": {
   "display_name": "Python 3",
   "language": "python",
   "name": "python3"
  },
  "language_info": {
   "codemirror_mode": {
    "name": "ipython",
    "version": 3
   },
   "file_extension": ".py",
   "mimetype": "text/x-python",
   "name": "python",
   "nbconvert_exporter": "python",
   "pygments_lexer": "ipython3",
   "version": "3.7.6"
  }
 },
 "nbformat": 4,
 "nbformat_minor": 4
}
