{
 "cells": [
  {
   "cell_type": "markdown",
   "metadata": {},
   "source": [
    "**Recommendation 알고리즘**  \n",
    "popularity에 따른 item을 추천 가능"
   ]
  },
  {
   "cell_type": "code",
   "execution_count": 1,
   "metadata": {},
   "outputs": [],
   "source": [
    "ratings = {\n",
    "    'Dave': {'달콤한 인생':5, '범죄도시':3, '샤인':3},\n",
    "    'David': {'달콤한 인생':5, '범죄도시':1, '샤인':4},\n",
    "    'Alex': {'달콤한 인생 ':0, '범죄도시':4, '샤인':5},\n",
    "    'Andy': {'달콤한 인생': 2, '범죄도시':1, '샤인':5}\n",
    "}"
   ]
  },
  {
   "cell_type": "markdown",
   "metadata": {},
   "source": [
    "평점이 높은 두 영화 출력"
   ]
  },
  {
   "cell_type": "code",
   "execution_count": 2,
   "metadata": {},
   "outputs": [
    {
     "name": "stdout",
     "output_type": "stream",
     "text": [
      "[('샤인', 4.25), ('달콤한 인생', 3.0)]\n"
     ]
    }
   ],
   "source": [
    "movie_dict = dict()\n",
    "for rating in ratings:\n",
    "    for movie in ratings[rating].keys():\n",
    "        if movie not in movie_dict:\n",
    "            movie_dict[movie] = ratings[rating][movie]\n",
    "        else:\n",
    "            movie_dict[movie] = (movie_dict[movie] + ratings[rating][movie]) \n",
    "\n",
    "for movie in ratings[rating].keys():\n",
    "    movie_dict[movie] = movie_dict[movie] / 4\n",
    "\n",
    "import operator\n",
    "sorted_x = sorted(movie_dict.items(), key=operator.itemgetter(1), reverse=True)\n",
    "\n",
    "print(sorted_x[:2])"
   ]
  },
  {
   "cell_type": "markdown",
   "metadata": {},
   "source": [
    "**Collaborative Filtering**  \n",
    "1.데이터 구성 / 사용자-항목 선호도(item) 행렬을 만든다.  \n",
    "2.유사도계산  \n",
    "3.추천목록 생성: Top N 개의 추천목록 생성"
   ]
  },
  {
   "cell_type": "code",
   "execution_count": 3,
   "metadata": {},
   "outputs": [],
   "source": [
    "ratings={\n",
    "     'Dave':{'달콤한인생':5,'범죄도시':3,'샤인':3},\n",
    "     'David':{'달콤한인생':2,'범죄도시':1,'샤인':4},\n",
    "     'Alex':{'범죄도시':4,'샤인':5},\n",
    "     'Andy':{'달콤한인생':2,'범죄도시':1,'샤인':5}\n",
    "}"
   ]
  },
  {
   "cell_type": "code",
   "execution_count": 4,
   "metadata": {},
   "outputs": [
    {
     "data": {
      "text/plain": [
       "{'달콤한인생': 5, '범죄도시': 3, '샤인': 3}"
      ]
     },
     "execution_count": 4,
     "metadata": {},
     "output_type": "execute_result"
    }
   ],
   "source": [
    "ratings.get('Dave')"
   ]
  },
  {
   "cell_type": "code",
   "execution_count": 5,
   "metadata": {},
   "outputs": [
    {
     "data": {
      "text/plain": [
       "3"
      ]
     },
     "execution_count": 5,
     "metadata": {},
     "output_type": "execute_result"
    }
   ],
   "source": [
    "ratings.get('Dave').get('샤인')"
   ]
  },
  {
   "cell_type": "markdown",
   "metadata": {},
   "source": [
    "유사도 계산(피타고라스 공식을 통해 거리 계산)"
   ]
  },
  {
   "cell_type": "code",
   "execution_count": 6,
   "metadata": {},
   "outputs": [],
   "source": [
    "import math\n",
    "def sim(i,j):\n",
    "    return math.sqrt(pow(i,2)+pow(j,2))"
   ]
  },
  {
   "cell_type": "code",
   "execution_count": 7,
   "metadata": {},
   "outputs": [],
   "source": [
    "var1= ratings['Alex']['범죄도시'] - ratings['Andy']['범죄도시']"
   ]
  },
  {
   "cell_type": "code",
   "execution_count": 8,
   "metadata": {},
   "outputs": [
    {
     "data": {
      "text/plain": [
       "3"
      ]
     },
     "execution_count": 8,
     "metadata": {},
     "output_type": "execute_result"
    }
   ],
   "source": [
    "var1"
   ]
  },
  {
   "cell_type": "code",
   "execution_count": 9,
   "metadata": {},
   "outputs": [],
   "source": [
    "var2 =  ratings['Alex']['샤인'] - ratings['Andy']['샤인']"
   ]
  },
  {
   "cell_type": "code",
   "execution_count": 10,
   "metadata": {},
   "outputs": [
    {
     "data": {
      "text/plain": [
       "0"
      ]
     },
     "execution_count": 10,
     "metadata": {},
     "output_type": "execute_result"
    }
   ],
   "source": [
    "var2"
   ]
  },
  {
   "cell_type": "code",
   "execution_count": 11,
   "metadata": {},
   "outputs": [
    {
     "data": {
      "text/plain": [
       "3.0"
      ]
     },
     "execution_count": 11,
     "metadata": {},
     "output_type": "execute_result"
    }
   ],
   "source": [
    "sim(var1, var2)"
   ]
  },
  {
   "cell_type": "markdown",
   "metadata": {},
   "source": [
    "Alex가 평가한 범죄도시, 샤인을 모두 평가한 사용자와 모두 거리 구하기(다른 사용자들간의 유사도 구하기)"
   ]
  },
  {
   "cell_type": "code",
   "execution_count": 13,
   "metadata": {},
   "outputs": [
    {
     "name": "stdout",
     "output_type": "stream",
     "text": [
      "Dave : 2.23606797749979\n",
      "David : 3.1622776601683795\n",
      "Andy : 3.0\n"
     ]
    }
   ],
   "source": [
    "for i in ratings:\n",
    "    if i!='Alex':\n",
    "        num1 = ratings.get('Alex').get('범죄도시') - ratings.get(i).get('범죄도시')\n",
    "        num2 = ratings.get('Alex').get('샤인') - ratings.get(i).get('샤인')\n",
    "        print(i,\":\", sim(num1,num2))"
   ]
  },
  {
   "cell_type": "markdown",
   "metadata": {},
   "source": [
    "정규화를 통해 유사도 범위를 0과 1사이에 가두고, 1에 가까울수록 유사도가 높게 변경"
   ]
  },
  {
   "cell_type": "code",
   "execution_count": 15,
   "metadata": {},
   "outputs": [
    {
     "name": "stdout",
     "output_type": "stream",
     "text": [
      "Dave : 0.3090169943749474\n",
      "David : 0.2402530733520421\n",
      "Andy : 0.25\n"
     ]
    }
   ],
   "source": [
    "for i in ratings:\n",
    "    if i!='Alex':\n",
    "        num1 = ratings.get('Alex').get('범죄도시') - ratings.get(i).get('범죄도시')\n",
    "        num2 = ratings.get('Alex').get('샤인') - ratings.get(i).get('샤인')\n",
    "        print(i,\":\", 1 / ( 1 + sim(num1,num2) ) )"
   ]
  },
  {
   "cell_type": "markdown",
   "metadata": {},
   "source": [
    "평균제곱차이 유사도"
   ]
  },
  {
   "cell_type": "code",
   "execution_count": 16,
   "metadata": {},
   "outputs": [],
   "source": [
    "def sim_msd(data, name1, name2):\n",
    "    sum = 0\n",
    "    count = 0\n",
    "    for movies in data[name1]:\n",
    "        if movies in data[name2]: #같은 영화를 봤다면\n",
    "            sum += pow(data[name1][movies]- data[name2][movies], 2)\n",
    "            count += 1\n",
    "\n",
    "    return 1 / ( 1 + (sum / count) )"
   ]
  },
  {
   "cell_type": "code",
   "execution_count": 17,
   "metadata": {},
   "outputs": [
    {
     "data": {
      "text/plain": [
       "0.2857142857142857"
      ]
     },
     "execution_count": 17,
     "metadata": {},
     "output_type": "execute_result"
    }
   ],
   "source": [
    "sim_msd(ratings, 'Dave','Alex')"
   ]
  },
  {
   "cell_type": "code",
   "execution_count": 18,
   "metadata": {},
   "outputs": [
    {
     "data": {
      "text/plain": [
       "0.15"
      ]
     },
     "execution_count": 18,
     "metadata": {},
     "output_type": "execute_result"
    }
   ],
   "source": [
    "sim_msd(ratings, 'Dave','Andy') #Dave와 Andy의 msd 유사도 구하기"
   ]
  },
  {
   "cell_type": "markdown",
   "metadata": {},
   "source": [
    "코사인 유사도"
   ]
  },
  {
   "cell_type": "code",
   "execution_count": 19,
   "metadata": {},
   "outputs": [],
   "source": [
    "import math\n",
    "def sim_cosine(data, name1, name2):\n",
    "    sum_name1 = 0\n",
    "    sum_name2 = 0\n",
    "    sum_name1_name2 = 0\n",
    "    count = 0\n",
    "    for movies in data[name1]:\n",
    "        if movies in data[name2]: #같은 영화를 봤다면\n",
    "            sum_name1 += pow(data[name1][movies], 2)\n",
    "            sum_name2 += pow(data[name2][movies], 2)\n",
    "            sum_name1_name2 += data[name1][movies]*data[name2][movies]\n",
    "    \n",
    "    return sum_name1_name2 / (math.sqrt(sum_name1)*math.sqrt(sum_name2))"
   ]
  },
  {
   "cell_type": "code",
   "execution_count": 20,
   "metadata": {},
   "outputs": [
    {
     "data": {
      "text/plain": [
       "0.9938837346736189"
      ]
     },
     "execution_count": 20,
     "metadata": {},
     "output_type": "execute_result"
    }
   ],
   "source": [
    "sim_cosine(ratings, 'Dave','Alex')"
   ]
  },
  {
   "cell_type": "code",
   "execution_count": 21,
   "metadata": {},
   "outputs": [
    {
     "data": {
      "text/plain": [
       "0.8319479070496523"
      ]
     },
     "execution_count": 21,
     "metadata": {},
     "output_type": "execute_result"
    }
   ],
   "source": [
    "sim_cosine(ratings, 'Dave','David')"
   ]
  },
  {
   "cell_type": "code",
   "execution_count": 22,
   "metadata": {},
   "outputs": [
    {
     "data": {
      "text/plain": [
       "0.7795844649455863"
      ]
     },
     "execution_count": 22,
     "metadata": {},
     "output_type": "execute_result"
    }
   ],
   "source": [
    "sim_cosine(ratings, 'Dave','Andy')"
   ]
  },
  {
   "cell_type": "markdown",
   "metadata": {},
   "source": [
    "피어슨 유사도"
   ]
  },
  {
   "cell_type": "code",
   "execution_count": 23,
   "metadata": {},
   "outputs": [],
   "source": [
    "def sim_pearson(data, name1, name2):\n",
    "    avg_name1 = 0\n",
    "    avg_name2 = 0\n",
    "    count = 0\n",
    "    for movies in data[name1]:\n",
    "        if movies in data[name2]: #같은 영화를 봤다면\n",
    "            avg_name1 = data[name1][movies]\n",
    "            avg_name2 = data[name2][movies]\n",
    "            count += 1\n",
    "    \n",
    "    avg_name1 = avg_name1 / count\n",
    "    avg_name2 = avg_name2 / count\n",
    "    \n",
    "    sum_name1 = 0\n",
    "    sum_name2 = 0\n",
    "    sum_name1_name2 = 0\n",
    "    count = 0\n",
    "    for movies in data[name1]:\n",
    "        if movies in data[name2]: #같은 영화를 봤다면\n",
    "            sum_name1 += pow(data[name1][movies] - avg_name1, 2)\n",
    "            sum_name2 += pow(data[name2][movies] - avg_name2, 2)\n",
    "            sum_name1_name2 += (data[name1][movies] - avg_name1) * (data[name2][movies] - avg_name2)\n",
    "    \n",
    "    return sum_name1_name2 / (math.sqrt(sum_name1)*math.sqrt(sum_name2))"
   ]
  },
  {
   "cell_type": "code",
   "execution_count": 24,
   "metadata": {},
   "outputs": [
    {
     "data": {
      "text/plain": [
       "0.970142500145332"
      ]
     },
     "execution_count": 24,
     "metadata": {},
     "output_type": "execute_result"
    }
   ],
   "source": [
    "sim_pearson(ratings, 'Dave','Alex')"
   ]
  },
  {
   "cell_type": "code",
   "execution_count": 25,
   "metadata": {},
   "outputs": [],
   "source": [
    "def top_match(data, name, index=3, sim_function=sim_pearson):\n",
    "    li=[]\n",
    "    for i in data: #딕셔너리를 돌고\n",
    "        if name!=i: #자기 자신이 아닐때만\n",
    "            li.append((sim_function(data,name,i),i)) #sim_function()을 통해 상관계수를 구하고 li[]에 추가\n",
    "    li.sort() #오름차순\n",
    "    li.reverse() #내림차순\n",
    "    return li[:index]"
   ]
  },
  {
   "cell_type": "code",
   "execution_count": 26,
   "metadata": {},
   "outputs": [
    {
     "data": {
      "text/plain": [
       "[(0.970142500145332, 'Alex'),\n",
       " (0.5406205059012895, 'David'),\n",
       " (0.39840953644479793, 'Andy')]"
      ]
     },
     "execution_count": 26,
     "metadata": {},
     "output_type": "execute_result"
    }
   ],
   "source": [
    "top_match(ratings, 'Dave', 3)"
   ]
  },
  {
   "cell_type": "code",
   "execution_count": 27,
   "metadata": {},
   "outputs": [
    {
     "data": {
      "text/plain": [
       "[(0.2857142857142857, 'Alex'), (0.1764705882352941, 'David'), (0.15, 'Andy')]"
      ]
     },
     "execution_count": 27,
     "metadata": {},
     "output_type": "execute_result"
    }
   ],
   "source": [
    "top_match(ratings, 'Dave', 3, sim_function=sim_msd)"
   ]
  },
  {
   "cell_type": "code",
   "execution_count": 28,
   "metadata": {},
   "outputs": [
    {
     "data": {
      "text/plain": [
       "[(0.9938837346736189, 'Alex'),\n",
       " (0.8319479070496523, 'David'),\n",
       " (0.7795844649455863, 'Andy')]"
      ]
     },
     "execution_count": 28,
     "metadata": {},
     "output_type": "execute_result"
    }
   ],
   "source": [
    "top_match(ratings, 'Dave', 3, sim_function=sim_cosine)"
   ]
  },
  {
   "cell_type": "code",
   "execution_count": 29,
   "metadata": {},
   "outputs": [
    {
     "data": {
      "text/plain": [
       "[(0.970142500145332, 'Alex'),\n",
       " (0.5406205059012895, 'David'),\n",
       " (0.39840953644479793, 'Andy')]"
      ]
     },
     "execution_count": 29,
     "metadata": {},
     "output_type": "execute_result"
    }
   ],
   "source": [
    "top_match(ratings, 'Dave', 3, sim_function=sim_pearson)"
   ]
  },
  {
   "cell_type": "markdown",
   "metadata": {},
   "source": [
    "<h3>유사도와 KNN을 활용한 예측 값 계산 및 추천 목록 생성 기법</h3>\n",
    ":사용자들 간의 유사도를 바탕으로 모든 항목에 대해 예측 값을 계산하고 높은 예측 값을 갖는 상위 N개의 추천 목록 생성\n",
    "\n",
    "K Nearest Neighbors(KNN) 가중치 예측 기법\n",
    "\n",
    "-유사도가 구해지면 평점을 예측하고자 하는 사용자(또는 상품)과 유사도가 큰 k개의 사용자(또는 상품) 벡터를 사용하여 가중 평균을 구해서 가중치를 예측"
   ]
  },
  {
   "cell_type": "markdown",
   "metadata": {},
   "source": [
    "1. 대상과 가장 유사도가 높은 k의 대상의 영화 평점과 유사도를 통해 유측평점((유사도x(타인의)영화평점)을 구한다.\n",
    "2. 추측평점의 총합을 구함\n",
    "3. 추측평점 총합계/유사도 합계를 통해 예상평점을 뽑아낼 수 있다."
   ]
  },
  {
   "cell_type": "code",
   "execution_count": 30,
   "metadata": {},
   "outputs": [],
   "source": [
    "ratings_expand = {\n",
    "    '마동석': {\n",
    "        '택시운전사': 3.5,\n",
    "        '남한산성': 1.5,\n",
    "        '킹스맨:골든서클': 3.0,\n",
    "        '범죄도시': 3.5,\n",
    "        '아이 캔 스피크': 2.5,\n",
    "        '꾼': 3.0,\n",
    "    },\n",
    "    '이정재': {\n",
    "        '택시운전사': 5.0,\n",
    "        '남한산성': 4.5,\n",
    "        '킹스맨:골든서클': 0.5,\n",
    "        '범죄도시': 1.5,\n",
    "        '아이 캔 스피크': 4.5,\n",
    "        '꾼': 5.0,\n",
    "    },\n",
    "    '윤계상': {\n",
    "        '택시운전사': 3.0,\n",
    "        '남한산성': 2.5,\n",
    "        '킹스맨:골든서클': 1.5,\n",
    "        '범죄도시': 3.0,\n",
    "        '꾼': 3.0,\n",
    "        '아이 캔 스피크': 3.5,\n",
    "    },\n",
    "    '설경구': {\n",
    "        '택시운전사': 2.5,\n",
    "        '남한산성': 3.0,\n",
    "        '범죄도시': 4.5,\n",
    "        '꾼': 4.0,\n",
    "    },\n",
    "    '최홍만': {\n",
    "        '남한산성': 4.5,\n",
    "        '킹스맨:골든서클': 3.0,\n",
    "        '꾼': 4.5,\n",
    "        '범죄도시': 3.0,\n",
    "        '아이 캔 스피크': 2.5,\n",
    "    },\n",
    "    '홍수환': {\n",
    "        '택시운전사': 3.0,\n",
    "        '남한산성': 4.0,\n",
    "        '킹스맨:골든서클': 1.0,\n",
    "        '범죄도시': 3.0,\n",
    "        '꾼': 3.5,\n",
    "        '아이 캔 스피크': 2.0,\n",
    "    },\n",
    "    '나원탁': {\n",
    "        '택시운전사': 3.0,\n",
    "        '남한산성': 4.0,\n",
    "        '꾼': 3.0,\n",
    "        '범죄도시': 5.0,\n",
    "        '아이 캔 스피크': 3.5,\n",
    "    },\n",
    "    '소이현': {\n",
    "        '남한산성': 4.5, \n",
    "        '아이 캔 스피크': 1.0,\n",
    "        '범죄도시': 4.0\n",
    "    }\n",
    "}"
   ]
  },
  {
   "cell_type": "code",
   "execution_count": 31,
   "metadata": {},
   "outputs": [],
   "source": [
    "def getRecommendation (data, person, k=3, sim_function=sim_pearson):\n",
    "    \n",
    "    result = top_match(data, person, k)\n",
    "    \n",
    "    score = 0 # 평점 합을 위한 변수\n",
    "    li = list() # 리턴을 위한 리스트\n",
    "    score_dic = dict() # 유사도 총합을 위한 dic\n",
    "    sim_dic = dict() # 평점 총합을 위한 dic\n",
    "\n",
    "    for sim, name in result: # 튜플이므로 한번에\n",
    "        print(sim, name)\n",
    "        if sim < 0 : continue #유사도가 양수인 사람만\n",
    "        for movie in data[name]: \n",
    "            if movie not in data[person]: #name이 평가를 내리지 않은 영화\n",
    "                score += sim * data[name][movie] # 그사람의 영화평점 * 유사도\n",
    "                score_dic.setdefault(movie, 0) # 기본값 설정\n",
    "                score_dic[movie] += score # 합계 구함\n",
    "\n",
    "                # 조건에 맞는 사람의 유사도의 누적합을 구한다\n",
    "                sim_dic.setdefault(movie, 0) \n",
    "                sim_dic[movie] += sim\n",
    "\n",
    "            score = 0  #영화가 바뀌었으니 초기화한다\n",
    "    \n",
    "    for key in score_dic: \n",
    "        score_dic[key] = score_dic[key] / sim_dic[key] # 평점 총합/ 유사도 총합\n",
    "        li.append((score_dic[key],key)) # list((tuple))의 리턴을 위해서.\n",
    "    li.sort() #오름차순\n",
    "    li.reverse() #내림차순\n",
    "    return li"
   ]
  },
  {
   "cell_type": "code",
   "execution_count": 32,
   "metadata": {},
   "outputs": [
    {
     "name": "stdout",
     "output_type": "stream",
     "text": [
      "0.9330597055272909 홍수환\n",
      "0.8909876971472571 최홍만\n",
      "0.8452277090445156 나원탁\n"
     ]
    },
    {
     "data": {
      "text/plain": [
       "[(3.675468553454334, '꾼'),\n",
       " (3.0000000000000004, '택시운전사'),\n",
       " (1.976934805357391, '킹스맨:골든서클')]"
      ]
     },
     "execution_count": 32,
     "metadata": {},
     "output_type": "execute_result"
    }
   ],
   "source": [
    "getRecommendation(ratings_expand, '소이현')"
   ]
  },
  {
   "cell_type": "code",
   "execution_count": 33,
   "metadata": {},
   "outputs": [
    {
     "name": "stdout",
     "output_type": "stream",
     "text": [
      "0.9608329054174726 홍수환\n",
      "0.9517663735117331 소이현\n"
     ]
    },
    {
     "data": {
      "text/plain": [
       "[(3.0, '택시운전사')]"
      ]
     },
     "execution_count": 33,
     "metadata": {},
     "output_type": "execute_result"
    }
   ],
   "source": [
    "getRecommendation(ratings_expand, '최홍만', k=2, sim_function=sim_cosine)"
   ]
  },
  {
   "cell_type": "code",
   "execution_count": 34,
   "metadata": {},
   "outputs": [],
   "source": [
    "for name in ratings_expand:\n",
    "    sum = 0\n",
    "    count = 0\n",
    "    for movies in ratings_expand[name]:\n",
    "        sum += ratings_expand[name][movies]\n",
    "        count += 1\n",
    "    ratings_expand[name]['avg'] = sum / count"
   ]
  },
  {
   "cell_type": "code",
   "execution_count": 35,
   "metadata": {},
   "outputs": [
    {
     "data": {
      "text/plain": [
       "{'마동석': {'택시운전사': 3.5,\n",
       "  '남한산성': 1.5,\n",
       "  '킹스맨:골든서클': 3.0,\n",
       "  '범죄도시': 3.5,\n",
       "  '아이 캔 스피크': 2.5,\n",
       "  '꾼': 3.0,\n",
       "  'avg': 2.8333333333333335},\n",
       " '이정재': {'택시운전사': 5.0,\n",
       "  '남한산성': 4.5,\n",
       "  '킹스맨:골든서클': 0.5,\n",
       "  '범죄도시': 1.5,\n",
       "  '아이 캔 스피크': 4.5,\n",
       "  '꾼': 5.0,\n",
       "  'avg': 3.5},\n",
       " '윤계상': {'택시운전사': 3.0,\n",
       "  '남한산성': 2.5,\n",
       "  '킹스맨:골든서클': 1.5,\n",
       "  '범죄도시': 3.0,\n",
       "  '꾼': 3.0,\n",
       "  '아이 캔 스피크': 3.5,\n",
       "  'avg': 2.75},\n",
       " '설경구': {'택시운전사': 2.5, '남한산성': 3.0, '범죄도시': 4.5, '꾼': 4.0, 'avg': 3.5},\n",
       " '최홍만': {'남한산성': 4.5,\n",
       "  '킹스맨:골든서클': 3.0,\n",
       "  '꾼': 4.5,\n",
       "  '범죄도시': 3.0,\n",
       "  '아이 캔 스피크': 2.5,\n",
       "  'avg': 3.5},\n",
       " '홍수환': {'택시운전사': 3.0,\n",
       "  '남한산성': 4.0,\n",
       "  '킹스맨:골든서클': 1.0,\n",
       "  '범죄도시': 3.0,\n",
       "  '꾼': 3.5,\n",
       "  '아이 캔 스피크': 2.0,\n",
       "  'avg': 2.75},\n",
       " '나원탁': {'택시운전사': 3.0,\n",
       "  '남한산성': 4.0,\n",
       "  '꾼': 3.0,\n",
       "  '범죄도시': 5.0,\n",
       "  '아이 캔 스피크': 3.5,\n",
       "  'avg': 3.7},\n",
       " '소이현': {'남한산성': 4.5, '아이 캔 스피크': 1.0, '범죄도시': 4.0, 'avg': 3.1666666666666665}}"
      ]
     },
     "execution_count": 35,
     "metadata": {},
     "output_type": "execute_result"
    }
   ],
   "source": [
    "ratings_expand"
   ]
  },
  {
   "cell_type": "code",
   "execution_count": 36,
   "metadata": {},
   "outputs": [],
   "source": [
    "def getRecommendation (data, person, k=3, sim_function=sim_pearson):\n",
    "    \n",
    "    result = top_match(data, person, k)\n",
    "    \n",
    "    score = 0 # 평점 합을 위한 변수\n",
    "    li = list() # 리턴을 위한 리스트\n",
    "    score_dic = dict() # 유사도 총합을 위한 dic\n",
    "    sim_dic = dict() # 평점 총합을 위한 dic\n",
    "\n",
    "    for sim, name in result: # 튜플이므로 한번에\n",
    "        print(sim, name)\n",
    "        if sim < 0 : continue #유사도가 양수인 사람만\n",
    "        for movie in data[name]: \n",
    "            if movie not in data[person]: #name이 평가를 내리지 않은 영화\n",
    "                score += sim * (data[name][movie] - data[name]['avg']) # 그사람의 영화평점 * 유사도\n",
    "                score_dic.setdefault(movie, 0) # 기본값 설정\n",
    "                score_dic[movie] += score # 합계 구함\n",
    "\n",
    "                # 조건에 맞는 사람의 유사도의 누적합을 구한다\n",
    "                sim_dic.setdefault(movie, 0) \n",
    "                sim_dic[movie] += sim\n",
    "\n",
    "            score = 0  #영화가 바뀌었으니 초기화한다\n",
    "    \n",
    "    for key in score_dic: \n",
    "        score_dic[key] = data[person]['avg'] + (score_dic[key] / sim_dic[key]) # 평점 총합/ 유사도 총합\n",
    "        li.append((score_dic[key],key)) # list((tuple))의 리턴을 위해서.\n",
    "    li.sort() #오름차순\n",
    "    li.reverse() #내림차순\n",
    "    return li"
   ]
  },
  {
   "cell_type": "code",
   "execution_count": 37,
   "metadata": {},
   "outputs": [
    {
     "name": "stdout",
     "output_type": "stream",
     "text": [
      "0.9661614876137535 홍수환\n",
      "0.9438405255065262 최홍만\n",
      "0.9437757473484876 설경구\n"
     ]
    },
    {
     "data": {
      "text/plain": [
       "[(3.91667234143915, '꾼'),\n",
       " (2.7989920841776077, '택시운전사'),\n",
       " (2.0343626946178484, '킹스맨:골든서클')]"
      ]
     },
     "execution_count": 37,
     "metadata": {},
     "output_type": "execute_result"
    }
   ],
   "source": [
    "getRecommendation(ratings_expand, '소이현')"
   ]
  },
  {
   "cell_type": "code",
   "execution_count": 38,
   "metadata": {},
   "outputs": [
    {
     "name": "stdout",
     "output_type": "stream",
     "text": [
      "0.9652129842456227 홍수환\n",
      "0.9438405255065262 소이현\n"
     ]
    },
    {
     "data": {
      "text/plain": [
       "[(3.75, '택시운전사')]"
      ]
     },
     "execution_count": 38,
     "metadata": {},
     "output_type": "execute_result"
    }
   ],
   "source": [
    "getRecommendation(ratings_expand, '최홍만', k=2, sim_function=sim_cosine)"
   ]
  },
  {
   "cell_type": "code",
   "execution_count": null,
   "metadata": {},
   "outputs": [],
   "source": []
  }
 ],
 "metadata": {
  "kernelspec": {
   "display_name": "Python 3",
   "language": "python",
   "name": "python3"
  },
  "language_info": {
   "codemirror_mode": {
    "name": "ipython",
    "version": 3
   },
   "file_extension": ".py",
   "mimetype": "text/x-python",
   "name": "python",
   "nbconvert_exporter": "python",
   "pygments_lexer": "ipython3",
   "version": "3.7.6"
  }
 },
 "nbformat": 4,
 "nbformat_minor": 4
}
